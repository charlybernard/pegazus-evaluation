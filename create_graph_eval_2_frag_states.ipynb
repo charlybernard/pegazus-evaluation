{
 "cells": [
  {
   "cell_type": "markdown",
   "metadata": {},
   "source": [
    "# Variables"
   ]
  },
  {
   "cell_type": "markdown",
   "metadata": {},
   "source": [
    "## Import libraries"
   ]
  },
  {
   "cell_type": "code",
   "execution_count": 1,
   "metadata": {},
   "outputs": [],
   "source": [
    "import os\n",
    "import sys\n",
    "from rdflib import URIRef"
   ]
  },
  {
   "cell_type": "markdown",
   "metadata": {},
   "source": [
    "### File and Folder Definitions\n",
    "\n",
    "This section defines various files and folders used in the process. These are divided into two categories:\n",
    "\n",
    "1. **Existing files**: These are pre-existing files that are part of the project and are used as input or reference files during the process.\n",
    "   - `ont_file_name`: The ontology file in Turtle format (`ontology.ttl`).\n",
    "   - `ruleset_file_name`: The ruleset file in the PIE format (`rules.pie`).\n",
    "\n",
    "2. **Created files during the process**: These are files generated during the execution of the process, and they are stored in the `tmp_folder`.\n",
    "   - `local_config_file_name`: Configuration file for the repository in Turtle format (`config_repo.ttl`).\n",
    "   - `pref_hidden_labels_ttl_file_name`: File containing implicit pref and hidden label triples for landmarks and name attribute version in Turtle format (`pref_hidden_labels.ttl`).\n",
    "\n",
    "3. **Existing folders**: These are folders that already exist and store files used in the project.\n",
    "   - `data_folder_name`: The folder containing the data files (`../data`).\n",
    "\n",
    "4. **Created folder during the process**: This is the folder created during the process to store temporary files.\n",
    "   - `tmp_folder_name`: Folder for temporary files during the process (`../tmp_files`).\n",
    "\n",
    "### GraphDB Repository Name\n",
    "- `facts_repository_name`: The name of the repository in GraphDB where the data is stored (`addresses_from_factoids`).\n",
    "\n",
    "### Named Graphs Definitions\n",
    "These are the names of the named graphs in the GraphDB repository.\n",
    "- `ontology_named_graph_name`: The named graph for the ontology (`ontology`).\n",
    "- `facts_named_graph_name`: The named graph for the facts data (`facts`).\n",
    "- `factoids_named_graph_name`: The named graph for the factoids data (`factoids`).\n",
    "- `permanent_named_graph_name`: The named graph for permanent data (`permanent`).\n",
    "- `tmp_named_graph_name`: The named graph for temporary data (`temporary`).\n",
    "- `inter_sources_name_graph_name`: The named graph for inter-sources data (`inter_sources`).\n",
    "\n",
    "### URIs to Access GraphDB\n",
    "- `str_graphdb_url`: The URL to access the local GraphDB instance (`http://localhost:7200`).\n",
    "\n",
    "### Code Folder Path\n",
    "- `py_code_folder_path`: The folder containing the Python code (`./code`).\n",
    "\n",
    "These variables are used throughout the process to refer to different files, folders, and named graphs in the GraphDB repository. They allow for a modular and flexible approach to handling the data and configuring the process steps.\n"
   ]
  },
  {
   "cell_type": "code",
   "execution_count": 2,
   "metadata": {},
   "outputs": [],
   "source": [
    "# Existing files\n",
    "ont_file_name = \"ontology.ttl\"\n",
    "ruleset_file_name = \"rules.pie\"\n",
    "\n",
    "# Created files during process (in `tmp_folder`)\n",
    "local_config_file_name = \"config_repo.ttl\"\n",
    "pref_hidden_labels_ttl_file_name = \"pref_hidden_labels.ttl\"\n",
    "comp_tmp_file_name = \"comparisons.ttl\"\n",
    "\n",
    "# Existing folders\n",
    "data_folder_name = \"./data/sources\"\n",
    "\n",
    "# Created folder during process\n",
    "tmp_folder_name = \"./tmp_files\"\n",
    "\n",
    "# GraphDB repository name\n",
    "facts_repository_name = \"addresses_from_factoids_with_frag_states\"\n",
    "\n",
    "# Definition of names of named graphes \n",
    "ontology_named_graph_name = \"ontology\"\n",
    "facts_named_graph_name = \"facts\"\n",
    "inter_sources_name_graph_name = \"inter_sources\"\n",
    "comp_named_graph_name = \"comparisons\"\n",
    "tmp_named_graph_name = \"temporary\"\n",
    "\n",
    "# Language for labels\n",
    "lang = \"fr\"\n",
    "\n",
    "# URIs to access to GraphDB\n",
    "str_graphdb_url = \"http://localhost:7200\"\n",
    "\n",
    "py_code_folder_path = \"/home/CBernard2/Projects/pegazus-extension/scripts/code\""
   ]
  },
  {
   "cell_type": "markdown",
   "metadata": {},
   "source": [
    "## Processing Global Variables\n",
    "\n",
    "In this section, we define and process various global variables related to file paths and configurations used throughout the process. This includes:\n",
    "\n",
    "- **Obtaining absolute file paths**: Converts relative file paths, as defined in the previous section, into absolute paths. This ensures the program can correctly locate the files regardless of the current working directory.\n",
    "    - `tmp_folder`: The absolute path for the temporary folder used to store intermediate files (`tmp_folder_name`).\n",
    "    - `data_folder`: The absolute path for the folder containing the data files (`data_folder_name`).\n",
    "    - `python_code_folder`: The absolute path for the folder containing the Python code (`py_code_folder_path`).\n",
    "    - `local_config_file`: The absolute path for the local configuration file (`local_config_file_name`), located in the temporary folder.\n",
    "    - `ont_file`: The absolute path for the ontology file (`ont_file_name`).\n",
    "    - `ruleset_file`: The absolute path for the ruleset file (`ruleset_file_name`).\n",
    "    - `pref_hidden_labels_ttl_file`: The absolute path for the file containing implicit facts data (`pref_hidden_labels_ttl_file_name`), located in the temporary folder.\n",
    "\n",
    "- **Creating a temporary folder**: If the folder specified by `tmp_folder_name` does not already exist, the program will create it to store files that are intended to be deleted after processing.\n",
    "\n",
    "- **Creating an RDFLib object for `graphdb_url`**: This step converts the string representing the GraphDB URL (`str_graphdb_url`) into an RDFLib `URIRef` object. This object can be used in RDF queries and updates to interact with the GraphDB instance.\n",
    "    - `graphdb_url`: An RDFLib `URIRef` representing the GraphDB URL (`str_graphdb_url`).\n",
    "\n",
    "These steps help to set up the working environment by ensuring that the necessary paths and configurations are ready for the process to begin.\n"
   ]
  },
  {
   "cell_type": "code",
   "execution_count": 3,
   "metadata": {},
   "outputs": [],
   "source": [
    "tmp_folder = os.path.abspath(tmp_folder_name)\n",
    "data_folder = os.path.abspath(data_folder_name)\n",
    "\n",
    "python_code_folder = os.path.abspath(py_code_folder_path)\n",
    "\n",
    "local_config_file = os.path.join(tmp_folder, local_config_file_name)\n",
    "ont_file = os.path.abspath(ont_file_name)\n",
    "ruleset_file = os.path.abspath(ruleset_file_name)\n",
    "pref_hidden_labels_ttl_file = os.path.join(tmp_folder, pref_hidden_labels_ttl_file_name)\n",
    "comp_tmp_file = os.path.join(tmp_folder, comp_tmp_file_name)\n",
    "\n",
    "graphdb_url = URIRef(str_graphdb_url)"
   ]
  },
  {
   "cell_type": "markdown",
   "metadata": {},
   "source": [
    "## Importing Python Modules\n",
    "\n",
    "This section imports various Python modules used throughout the project. The following modules are imported from the `code` folder:\n",
    "\n",
    "- **file_management**: Provides functions for managing files, such as reading, writing, and manipulating file paths.\n",
    "- **graphdb**: Handles interactions with GraphDB, including querying, updating, and managing named graphs.\n",
    "- **graphrdf**: Likely used for handling RDF (Resource Description Framework) data and operations on graphs.\n",
    "- **attribute_version_comparisons**: Facilitates the comparison of different versions of attributes in the RDF data.\n",
    "- **multi_sources_processing**: Contains methods for processing data from multiple sources, likely aggregating or reconciling them.\n",
    "- **factoids_creation**: Includes functions for creating factoids, which are small pieces of information or data extracted or derived from sources.\n",
    "- **time_processing**: Likely used for managing and processing time-based data or timestamps.\n",
    "- **resource_transfert**: Handles the transfer of resources, possibly related to moving or copying data between systems or storage locations.\n",
    "- **evolution_construction**: Likely deals with constructing or evolving data models or entities over time.\n",
    "\n",
    "These modules provide the necessary functionality for managing files, interacting with a graph database, processing data, and performing other domain-specific tasks related to the project.\n"
   ]
  },
  {
   "cell_type": "code",
   "execution_count": 4,
   "metadata": {},
   "outputs": [],
   "source": [
    "# Calling up the `code` folder contains the python codes\n",
    "sys.path.insert(1, python_code_folder)\n",
    "\n",
    "import file_management as fm\n",
    "import graphdb as gd\n",
    "import attribute_version_comparisons as avc\n",
    "import multi_sources_processing as msp\n",
    "import factoids_creation as fc\n",
    "import time_processing as tp\n",
    "import resource_rooting as rr\n",
    "import evolution_construction as ec"
   ]
  },
  {
   "cell_type": "markdown",
   "metadata": {},
   "source": [
    "## Creation of folders if they don't exist"
   ]
  },
  {
   "cell_type": "code",
   "execution_count": 5,
   "metadata": {},
   "outputs": [],
   "source": [
    "fm.create_folder_if_not_exists(tmp_folder)"
   ]
  },
  {
   "cell_type": "markdown",
   "metadata": {},
   "source": [
    "### Creating the local directory in GraphDB\n",
    "For the creation to work, GraphDB must be launched and therefore the URI given by `graphdb_url` must work. If the directory already exists, nothing is done.\n",
    "\n",
    "### Options\n",
    "\n",
    "- **`allow_removal`**: If set to `False`, the repository will not be removed during the reinitialization process. Instead, the repository will simply be emptied. This is useful in case the deletion of the repository fails, ensuring the directory is cleared without being deleted and recreated. \n",
    "- **`disable_same_as`**: When set to `True`, this option disables the use of `sameAs` in the reasoning process.\n",
    "\n",
    "### Creation Process\n",
    "\n",
    "The function `gd.reinitialize_repository` is used to reinitialize the repository. When called, it ensures the repository is set up according to the provided configurations (e.g., `local_config_file`, `ruleset_name`). If the repository already exists, it is reinitialized without removing it (if `allow_removal` is set to `False`).\n",
    "\n",
    "- **`graphdb_url`**: The URL pointing to the running GraphDB instance.\n",
    "- **`facts_repository_name`**: The name of the repository to be reinitialized.\n",
    "- **`local_config_file`**: The configuration file used to initialize the repository.\n",
    "- **`ruleset_name`**: The name of the ruleset to be used for reasoning, such as `\"owl2-rl-optimized\"`.\n",
    "- **`allow_removal`**: Controls whether the repository can be deleted and recreated (`False` will just empty it).\n",
    "\n",
    "For the creation of the repository to work, GraphDB must be running, and the provided `graphdb_url` must be valid. If the repository already exists, it will be reinitialized without further action.\n"
   ]
  },
  {
   "cell_type": "code",
   "execution_count": 6,
   "metadata": {},
   "outputs": [],
   "source": [
    "# Deleting a directory may not work, so to avoid deletion at reset time (deletion + (re)creation)\n",
    "# `allow_removal` must be False, in which case the directory will just be emptied.\n",
    "allow_removal = False\n",
    "disable_same_as = False\n",
    "\n",
    "gd.reinitialize_repository(graphdb_url, facts_repository_name, local_config_file, ruleset_name=\"rdfsplus-optimized\", disable_same_as=disable_same_as, allow_removal=allow_removal)\n",
    "# gd.reinitialize_repository(graphdb_url, facts_repository_name, local_config_file, ruleset_name=\"owl2-rl-optimized\", disable_same_as=disable_same_as, allow_removal=allow_removal)\n",
    "# gd.reinitialize_repository(graphdb_url, facts_repository_name, local_config_file, ruleset_file=ruleset_file, disable_same_as=disable_same_as, allow_removal=allow_removal)"
   ]
  },
  {
   "cell_type": "markdown",
   "metadata": {},
   "source": [
    "## Local directory management"
   ]
  },
  {
   "cell_type": "markdown",
   "metadata": {},
   "source": [
    "## Importing ontologies"
   ]
  },
  {
   "cell_type": "code",
   "execution_count": 7,
   "metadata": {},
   "outputs": [],
   "source": [
    "gd.load_ontologies(graphdb_url, facts_repository_name, [ont_file], ontology_named_graph_name)"
   ]
  },
  {
   "cell_type": "markdown",
   "metadata": {},
   "source": [
    "## Definition of variables linked to sources"
   ]
  },
  {
   "cell_type": "markdown",
   "metadata": {},
   "source": [
    "### Paris thoroughfares via Wikidata"
   ]
  },
  {
   "cell_type": "markdown",
   "metadata": {},
   "source": [
    "* `wd` for \"wikidata\"\n",
    "* `wdp_land` for \"wikidata paris landmarks\"\n",
    "* `wdp_loc` for \"wikidata paris locations\""
   ]
  },
  {
   "cell_type": "code",
   "execution_count": 8,
   "metadata": {},
   "outputs": [],
   "source": [
    "# Name of the directory where the factoid triples of Wikidata data are stored and constructed\n",
    "wdp_named_graph_name = \"wikidata\"\n",
    "\n",
    "# CSV file to store the result of the selection query\n",
    "wdp_land_csv_file_name = \"wd_paris_landmarks.csv\"\n",
    "wdp_land_csv_file = os.path.join(data_folder, wdp_land_csv_file_name)\n",
    "\n",
    "# CSV file to store the result of the selection query\n",
    "wdp_loc_csv_file_name = \"wd_paris_locations.csv\"\n",
    "wdp_loc_csv_file = os.path.join(data_folder, wdp_loc_csv_file_name)\n",
    "\n",
    "# TTL file for structuring knowledge of the Paris thoroughfares\n",
    "wdp_kg_file_name = \"wd_paris.ttl\"\n",
    "wdp_kg_file = os.path.join(tmp_folder, wdp_kg_file_name)\n",
    "\n",
    "# Time interval of validity of the source (there is not end time)\n",
    "wdp_valid_time = {\n",
    "    \"start\" : {\"stamp\":\"2024-08-26T00:00:00Z\",\"precision\":\"day\",\"calendar\":\"gregorian\"}\n",
    "    }\n",
    "\n",
    "wdp_source = {\n",
    "    \"label\": \"Wikidata\",\n",
    "    \"lang\": \"mul\"\n",
    "}"
   ]
  },
  {
   "cell_type": "markdown",
   "metadata": {},
   "source": [
    "### Nomenclature of Paris thoroughfares (Ville de Paris data)"
   ]
  },
  {
   "cell_type": "markdown",
   "metadata": {},
   "source": [
    "The City of Paris data is made up of two sets:\n",
    "* [names of current street rights-of-way](https://opendata.paris.fr/explore/dataset/denominations-emprises-voies-actuelles)\n",
    "* [obsolete street names](https://opendata.paris.fr/explore/dataset/denominations-des-voies-caduques)\n",
    "\n",
    "Current roads have a geometric right of way, unlike the old thoroughfares.\n",
    "\n",
    "* `vpt` for ‘ville paris thoroughfares’\n",
    "* `vpta` for ‘ville paris thoroughfares actuelles’.\n",
    "* `vptc` for ‘ville paris thoroughfares caduques’."
   ]
  },
  {
   "cell_type": "code",
   "execution_count": 9,
   "metadata": {},
   "outputs": [],
   "source": [
    "# Name of the directory where the factoid triples of Ville de Paris data are stored and constructed\n",
    "vpt_named_graph_name = \"ville_de_paris\"\n",
    "\n",
    "# CSV files containting data\n",
    "vpta_csv_file_name = \"denominations-emprises-voies-actuelles.csv\"\n",
    "vpta_csv_file = os.path.join(data_folder, vpta_csv_file_name)\n",
    "vptc_csv_file_name = \"denominations-des-voies-caduques.csv\"\n",
    "vptc_csv_file = os.path.join(data_folder, vptc_csv_file_name)\n",
    "\n",
    "# TTL file for structuring knowledge of the Paris thoroughfares\n",
    "vpt_kg_file_name = \"voies_paris.ttl\"\n",
    "vpt_kg_file = os.path.join(tmp_folder, vpt_kg_file_name)\n",
    "\n",
    "# Time interval of validity of the source (there is not end time)\n",
    "vpta_valid_time = {\n",
    "    \"start\" : {\"stamp\":\"2025-04-01T00:00:00Z\",\"precision\":\"day\",\"calendar\":\"gregorian\"},\n",
    "    \"end\" : {\"stamp\":tp.get_current_timestamp(),\"precision\":\"day\",\"calendar\":\"gregorian\"}\n",
    "    }\n",
    "\n",
    "# Description of the source for current thoroughfares of Ville de Paris\n",
    "vpta_source = {\n",
    "    \"uri\": \"https://opendata.paris.fr/explore/dataset/denominations-emprises-voies-actuelles/\",\n",
    "    \"label\" : \"Dénominations des emprises des voies actuelles\",\n",
    "    \"lang\":\"fr\",\n",
    "    \"publisher\" : {\n",
    "        \"label\": \"Département de la Topographie et de la Documentation Foncière de la Ville de Paris\"\n",
    "    }\n",
    "}\n",
    "\n",
    "# Description of the source for caducous thoroughfares of Ville de Paris\n",
    "vptc_source = {\n",
    "    \"uri\": \"https://opendata.paris.fr/explore/dataset/denominations-des-voies-caduques/\",\n",
    "    \"label\" : \"Dénominations caduques des voies\",\n",
    "    \"lang\":\"fr\",\n",
    "    \"publisher\" : {\n",
    "        \"label\": \"Département de la Topographie et de la Documentation Foncière de la Ville de Paris\"\n",
    "    }\n",
    "}"
   ]
  },
  {
   "cell_type": "markdown",
   "metadata": {},
   "source": [
    "### Base Adresse Nationale (BAN)"
   ]
  },
  {
   "cell_type": "markdown",
   "metadata": {},
   "source": [
    "Data from the [Base Adresse Nationale (BAN)](https://adresse.data.gouv.fr/base-adresse-nationale) (National Address Base), available [here](https://adresse.data.gouv.fr/data/ban/adresses/latest/csv)\n",
    "\n",
    "bpa` for ‘BAN paris addresses’"
   ]
  },
  {
   "cell_type": "code",
   "execution_count": 10,
   "metadata": {},
   "outputs": [],
   "source": [
    "# Name of the directory where the factoid triples of BAN data are stored and constructed\n",
    "bpa_named_graph_name = \"ban_adresses\"\n",
    "\n",
    "# CSV file containting data\n",
    "bpa_csv_file_name = \"ban_adresses.csv\"\n",
    "bpa_csv_file = os.path.join(data_folder, bpa_csv_file_name)\n",
    "\n",
    "# TTL file for structuring knowledge of Paris addresses\n",
    "bpa_kg_file_name = \"ban_adresses.ttl\"\n",
    "bpa_kg_file = os.path.join(tmp_folder, bpa_kg_file_name)\n",
    "\n",
    "# Time interval of validity of the source (there is not end time)\n",
    "bpa_valid_time = {\n",
    "    \"start\" : {\"stamp\":\"2024-01-01T00:00:00Z\",\"precision\":\"day\",\"calendar\":\"gregorian\"},\n",
    "    \"end\" : {\"stamp\":\"2025-01-01T00:00:00Z\",\"precision\":\"day\",\"calendar\":\"gregorian\"}\n",
    "    }\n",
    "\n",
    "bpa_source = {\n",
    "    \"label\" : \"Base Adresse Nationale\",\n",
    "    \"lang\":\"fr\",\n",
    "    \"publisher\" : {\n",
    "        \"label\": \"DINUM / ANCT / IGN\"\n",
    "    }\n",
    "}"
   ]
  },
  {
   "cell_type": "markdown",
   "metadata": {},
   "source": [
    "### OpenStreetMap (OSM)"
   ]
  },
  {
   "cell_type": "markdown",
   "metadata": {},
   "source": [
    "Extracting data from OpenStreetMap"
   ]
  },
  {
   "cell_type": "code",
   "execution_count": 11,
   "metadata": {},
   "outputs": [],
   "source": [
    "# Name of the directory where the factoid triples of OSM data are stored and constructed\n",
    "osm_named_graph_name = \"osm\"\n",
    "\n",
    "# CSV files containting data\n",
    "osm_csv_file_name = \"osm_adresses.csv\"\n",
    "osm_csv_file = os.path.join(data_folder, osm_csv_file_name)\n",
    "osm_hn_csv_file_name = \"osm_hn_adresses.csv\"\n",
    "osm_hn_csv_file = os.path.join(data_folder, osm_hn_csv_file_name)\n",
    "\n",
    "# TTL file for structuring knowledge of OSM addresses\n",
    "osm_kg_file_name = \"osm_adresses.ttl\"\n",
    "osm_kg_file = os.path.join(tmp_folder, osm_kg_file_name)\n",
    "\n",
    "# Time interval of validity of the source (there is not end time)\n",
    "osm_valid_time = {\n",
    "    \"start\" : {\"stamp\":\"2025-05-01T00:00:00Z\",\"precision\":\"day\",\"calendar\":\"gregorian\"},\n",
    "    \"end\" : {\"stamp\":tp.get_current_timestamp(),\"precision\":\"day\",\"calendar\":\"gregorian\"}\n",
    "    }\n",
    "\n",
    "osm_source = {\n",
    "    \"label\" : \"OpenStreetMap\",\n",
    "    \"lang\":\"mul\"\n",
    "}"
   ]
  },
  {
   "cell_type": "markdown",
   "metadata": {},
   "source": [
    "### Integration of data from Geojson files describing thoroughfares"
   ]
  },
  {
   "cell_type": "markdown",
   "metadata": {},
   "source": [
    "These files are derived from the vectorisation of maps of Paris:\n",
    "* the revised Napoleonic cadatre of 1728 ;\n",
    "* Andriveau’ plan of 1849 ;\n",
    "* municipal plot plan of 1871 ;\n",
    "* the Municipal Atlas map of 1888."
   ]
  },
  {
   "cell_type": "markdown",
   "metadata": {},
   "source": [
    "#### Plan Delagrive 1728"
   ]
  },
  {
   "cell_type": "code",
   "execution_count": 12,
   "metadata": {},
   "outputs": [],
   "source": [
    "# Name of the directory where data factoid triples are stored and constructed\n",
    "del_1728_th_named_graph_name = \"plan_delagrive_1728_voies\"\n",
    "\n",
    "# Geojson file containting data\n",
    "del_1728_th_geojson_file_name = \"plan_delagrive_1728_voies.geojson\"\n",
    "del_1728_th_geojson_file = os.path.join(data_folder, del_1728_th_geojson_file_name)\n",
    "del_1728_th_kg_file_name = \"plan_delagrive_1728_voies.ttl\"\n",
    "del_1728_th_kg_file = os.path.join(tmp_folder, del_1728_th_kg_file_name)\n",
    "\n",
    "del_1728_th_name_attribute = \"nom\"\n",
    "\n",
    "# Description of the source within a dictionary\n",
    "del_1728_th_source = {\n",
    "    \"lang\" : \"fr\", \n",
    "    \"uri\" : \"https://gallica.bnf.fr/ark:/12148/btv1b53085122h\",\n",
    "    \"label\" : \"Neuvieme Plan de Paris. Ses accroissemens sous le Regne de Louis XV[...] \",\n",
    "    \"publisher\" : {\n",
    "        \"label\": \"Delagrive\"\n",
    "        }\n",
    "}\n",
    "\n",
    "# Time interval of validity of the source\n",
    "del_1728_th_valid_time = {\n",
    "    \"start\" : {\"stamp\":\"1827-01-01T00:00:00Z\",\"precision\":\"year\",\"calendar\":\"gregorian\"},\n",
    "    \"end\" : {\"stamp\":\"1829-01-01T00:00:00Z\",\"precision\":\"year\",\"calendar\":\"gregorian\"},\n",
    "}"
   ]
  },
  {
   "cell_type": "markdown",
   "metadata": {},
   "source": [
    "#### Verniquet atlas"
   ]
  },
  {
   "cell_type": "code",
   "execution_count": 13,
   "metadata": {},
   "outputs": [],
   "source": [
    "# Name of the directory where data factoid triples are stored and constructed\n",
    "ve_1790_th_named_graph_name = \"atlas_verniquet_1791_voies\"\n",
    "\n",
    "# Geojson file containting data\n",
    "ve_1790_th_geojson_file_name = \"atlas_verniquet_1791_voies.geojson\"\n",
    "ve_1790_th_geojson_file = os.path.join(data_folder, ve_1790_th_geojson_file_name)\n",
    "ve_1790_th_kg_file_name = \"atlas_verniquet_1791_voies.ttl\"\n",
    "ve_1790_th_kg_file = os.path.join(tmp_folder, ve_1790_th_kg_file_name)\n",
    "\n",
    "ve_1790_th_name_attribute = \"nom\"\n",
    "\n",
    "# Description of the source within a dictionary\n",
    "ve_1790_th_source = {\n",
    "    \"uri\": \"https://gallica.bnf.fr/ark:/12148/bpt6k3167995\",\n",
    "    \"lang\" : \"fr\", \n",
    "    \"label\" : \"Atlas Général de la Ville\",\n",
    "    \"publisher\" : {\n",
    "        \"label\": \"Verniquet\"\n",
    "        }\n",
    "}\n",
    "\n",
    "# Time interval of validity of the source\n",
    "ve_1790_th_valid_time = {\n",
    "    \"start\" : {\"stamp\":\"1784-01-01T00:00:00Z\",\"precision\":\"year\",\"calendar\":\"gregorian\"},\n",
    "    \"end\" : {\"stamp\":\"1791-01-01T00:00:00Z\",\"precision\":\"year\",\"calendar\":\"gregorian\"},\n",
    "}"
   ]
  },
  {
   "cell_type": "markdown",
   "metadata": {},
   "source": [
    "#### Vasserot atlas"
   ]
  },
  {
   "cell_type": "code",
   "execution_count": 14,
   "metadata": {},
   "outputs": [],
   "source": [
    "# Name of the directory where data factoid triples are stored and constructed\n",
    "va_1810_th_named_graph_name = \"atlas_vasserot_1810_voies\"\n",
    "\n",
    "# Geojson file containting data\n",
    "va_1810_th_geojson_file_name = \"atlas_vasserot_1810_voies.geojson\"\n",
    "va_1810_th_geojson_file = os.path.join(data_folder, va_1810_th_geojson_file_name)\n",
    "va_1810_th_kg_file_name = \"atlas_vasserot_1810_voies.ttl\"\n",
    "va_1810_th_kg_file = os.path.join(tmp_folder, va_1810_th_kg_file_name)\n",
    "\n",
    "va_1810_th_name_attribute = \"nom_entier\"\n",
    "\n",
    "# Description of the source within a dictionary\n",
    "va_1810_th_source = {\n",
    "    \"uri\": \"www.fabriquenumeriquedupasse.fr/explore/dataset/alpage-voies-vasserot\",\n",
    "    \"lang\" : \"fr\", \n",
    "    \"label\" : \"Cadastre de Paris par îlot : 1810-1836\",\n",
    "    \"publisher\" : {\n",
    "        \"label\": \"Vasserot\"\n",
    "        }\n",
    "}\n",
    "\n",
    "# Time interval of validity of the source\n",
    "va_1810_th_valid_time = {\n",
    "    \"start\" : {\"stamp\":\"1810-01-01T00:00:00Z\",\"precision\":\"year\",\"calendar\":\"gregorian\"},\n",
    "    \"end\" : {\"stamp\":\"1836-01-01T00:00:00Z\",\"precision\":\"year\",\"calendar\":\"gregorian\"},\n",
    "}"
   ]
  },
  {
   "cell_type": "markdown",
   "metadata": {},
   "source": [
    "#### 1836 Jacoubet Atlas streets"
   ]
  },
  {
   "cell_type": "code",
   "execution_count": 15,
   "metadata": {},
   "outputs": [],
   "source": [
    "# Name of the directory where data factoid triples are stored and constructed\n",
    "ja_1836_th_named_graph_name = \"atlas_jacoubet_1836_voies\"\n",
    "\n",
    "# Geojson file containting data\n",
    "ja_1836_th_geojson_file_name = \"atlas_jacoubet_1836_voies.geojson\"\n",
    "ja_1836_th_geojson_file = os.path.join(data_folder, ja_1836_th_geojson_file_name)\n",
    "ja_1836_th_kg_file_name = \"atlas_jacoubet_1836_voies.ttl\"\n",
    "ja_1836_th_kg_file = os.path.join(tmp_folder, ja_1836_th_kg_file_name)\n",
    "\n",
    "ja_1836_th_name_attribute = \"nom_entier\"\n",
    "\n",
    "# Description of the source within a dictionary\n",
    "ja_1836_th_source = {\n",
    "    \"uri\":\"https://bibliotheques-specialisees.paris.fr/ark:/73873/pf0000212158\",\n",
    "    \"lang\" : \"fr\", \n",
    "    \"label\" : \"Atlas général de la ville, des faubourgs et des monuments de Paris\",\n",
    "    \"publisher\" : {\n",
    "        \"label\": \"Jacoubet\"\n",
    "        }\n",
    "}\n",
    "\n",
    "# Time interval of validity of the source\n",
    "ja_1836_th_valid_time = {\n",
    "    \"start\" : {\"stamp\":\"1827-01-01T00:00:00Z\",\"precision\":\"year\",\"calendar\":\"gregorian\"},\n",
    "    \"end\" : {\"stamp\":\"1838-01-01T00:00:00Z\",\"precision\":\"year\",\"calendar\":\"gregorian\"},\n",
    "}"
   ]
  },
  {
   "cell_type": "markdown",
   "metadata": {},
   "source": [
    "#### Andriveau atlas"
   ]
  },
  {
   "cell_type": "code",
   "execution_count": 16,
   "metadata": {},
   "outputs": [],
   "source": [
    "# Name of the directory where data factoid triples are stored and constructed\n",
    "an_1849_th_named_graph_name = \"plan_andriveau_1849_voies\"\n",
    "\n",
    "# Geojson file containting data\n",
    "an_1849_th_geojson_file_name = \"plan_andriveau_1849_voies.geojson\"\n",
    "an_1849_th_geojson_file = os.path.join(data_folder, an_1849_th_geojson_file_name)\n",
    "an_1849_th_kg_file_name = \"plan_andriveau_1849_voies.ttl\"\n",
    "an_1849_th_kg_file = os.path.join(tmp_folder, an_1849_th_kg_file_name)\n",
    "\n",
    "an_1849_th_name_attribute = \"nom_entier\"\n",
    "\n",
    "# Description of the source within a dictionary\n",
    "an_1849_th_source = {\n",
    "    \"lang\" : \"fr\", \n",
    "    \"label\" : \"Plan de Paris comprenant l'enceinte des fortifications\",\n",
    "    \"publisher\" : {\n",
    "        \"label\": \"Andriveau\"\n",
    "        }\n",
    "}\n",
    "\n",
    "# Time interval of validity of the source\n",
    "an_1849_th_valid_time = {\n",
    "    \"start\" : {\"stamp\":\"1848-01-01T00:00:00Z\",\"precision\":\"year\",\"calendar\":\"gregorian\"},\n",
    "    \"end\" : {\"stamp\":\"1850-01-01T00:00:00Z\",\"precision\":\"year\",\"calendar\":\"gregorian\"},\n",
    "}"
   ]
  },
  {
   "cell_type": "markdown",
   "metadata": {},
   "source": [
    "#### 1888 Municipal Atlas of Paris"
   ]
  },
  {
   "cell_type": "code",
   "execution_count": 17,
   "metadata": {},
   "outputs": [],
   "source": [
    "# Name of the directory where data factoid triples are stored and constructed\n",
    "am_1888_th_named_graph_name = \"atlas_municipal_1888_voies\"\n",
    "\n",
    "# Geojson file containting data\n",
    "am_1888_th_geojson_file_name = \"atlas_municipal_1888_voies.geojson\"\n",
    "am_1888_th_geojson_file = os.path.join(data_folder, am_1888_th_geojson_file_name)\n",
    "am_1888_th_kg_file_name = \"atlas_municipal_1888_voies.ttl\"\n",
    "am_1888_th_kg_file = os.path.join(tmp_folder, am_1888_th_kg_file_name)\n",
    "\n",
    "am_1888_th_name_attribute = \"nom_1888\"\n",
    "\n",
    "# Description of the source within a dictionary\n",
    "am_1888_th_source = {\n",
    "    \"uri\":\"https://bibliotheques-specialisees.paris.fr/ark:/73873/pf0000935116\",\n",
    "    \"lang\" : \"fr\", \n",
    "    \"label\" : \"Plan de l'atlas municipal de 1888\",\n",
    "    \"publisher\" : {\n",
    "        \"label\": \"Poubelle\"\n",
    "        }\n",
    "}\n",
    "\n",
    "# Time interval of validity of the source\n",
    "am_1888_th_valid_time = {\n",
    "    \"start\" : {\"stamp\":\"1887-01-01T00:00:00Z\",\"precision\":\"year\",\"calendar\":\"gregorian\"},\n",
    "    \"end\" : {\"stamp\":\"1889-01-01T00:00:00Z\",\"precision\":\"year\",\"calendar\":\"gregorian\"},\n",
    "}"
   ]
  },
  {
   "cell_type": "markdown",
   "metadata": {},
   "source": [
    "### Integration of data from Geojson files describing street numbers"
   ]
  },
  {
   "cell_type": "markdown",
   "metadata": {},
   "source": [
    "#### 1807 General cadastre of Paris"
   ]
  },
  {
   "cell_type": "code",
   "execution_count": 18,
   "metadata": {},
   "outputs": [],
   "source": [
    "# Name of the directory where data factoid triples are stored and constructed\n",
    "cad_1807_addr_named_graph_name = \"cadastre_paris_1807_adresses\"\n",
    "\n",
    "# Geojson file containting data\n",
    "cad_1807_addr_geojson_file_name = \"cadastre_paris_1807_adresses.geojson\"\n",
    "cad_1807_addr_geojson_file = os.path.join(data_folder, cad_1807_addr_geojson_file_name)\n",
    "cad_1807_addr_kg_file_name = \"cadastre_paris_1807_adresses.ttl\"\n",
    "cad_1807_addr_kg_file = os.path.join(tmp_folder, cad_1807_addr_kg_file_name)\n",
    "\n",
    "# Attribute names of the street number value and the street name\n",
    "cad_1807_addr_sn_name_property = \"NUMERO TXT\"\n",
    "cad_1807_addr_th_name_property = \"NOM_SAISI\"\n",
    "\n",
    "# Description of the source within a dictionary\n",
    "cad_1807_addr_source = {\n",
    "    \"lang\" : \"fr\", \n",
    "    \"label\" : \"Adresses du cadastre général de Paris de 1807\",\n",
    "    \"publisher\" : {\n",
    "        \"label\": \"Ville de Paris\"\n",
    "        }\n",
    "}\n",
    "\n",
    "# Time interval of validity of the source\n",
    "cad_1807_addr_valid_time = {\n",
    "    \"start\" : {\"stamp\":\"1806-01-01T00:00:00Z\",\"precision\":\"year\",\"calendar\":\"gregorian\"},\n",
    "    \"end\" : {\"stamp\":\"1808-01-01T00:00:00Z\",\"precision\":\"year\",\"calendar\":\"gregorian\"},\n",
    "}"
   ]
  },
  {
   "cell_type": "markdown",
   "metadata": {},
   "source": [
    "#### Vasserot atlas"
   ]
  },
  {
   "cell_type": "code",
   "execution_count": 19,
   "metadata": {},
   "outputs": [],
   "source": [
    "# Name of the directory where data factoid triples are stored and constructed\n",
    "va_1810_addr_named_graph_name = \"atlas_vasserot_1810_adresses\"\n",
    "\n",
    "# Geojson file containting data\n",
    "va_1810_addr_geojson_file_name = \"atlas_vasserot_1810_adresses.geojson\"\n",
    "va_1810_addr_geojson_file = os.path.join(data_folder, va_1810_addr_geojson_file_name)\n",
    "va_1810_addr_kg_file_name = \"atlas_vasserot_1810_adresses.ttl\"\n",
    "va_1810_addr_kg_file = os.path.join(tmp_folder, va_1810_addr_kg_file_name)\n",
    "\n",
    "# Attribute names of the street number value and the street name\n",
    "va_1810_addr_sn_name_property = \"num_voies\"\n",
    "va_1810_addr_th_name_property = \"nom_entier\"\n",
    "\n",
    "# Description of the source within a dictionary\n",
    "va_1810_addr_source = {\n",
    "    \"uri\": \"https://www.fabriquenumeriquedupasse.fr/explore/dataset/alpage-adresses-vasserot\",\n",
    "    \"lang\" : \"fr\", \n",
    "    \"label\" : \"Cadastre de Paris par îlot : 1810-1836\",\n",
    "    \"publisher\" : {\n",
    "        \"label\": \"Vasserot\"\n",
    "        }\n",
    "}\n",
    "\n",
    "# Time interval of validity of the source\n",
    "va_1810_addr_valid_time = {\n",
    "    \"start\" : {\"stamp\":\"1810-01-01T00:00:00Z\",\"precision\":\"year\",\"calendar\":\"gregorian\"},\n",
    "    \"end\" : {\"stamp\":\"1836-01-01T00:00:00Z\",\"precision\":\"year\",\"calendar\":\"gregorian\"},\n",
    "}"
   ]
  },
  {
   "cell_type": "markdown",
   "metadata": {},
   "source": [
    "#### 1836 Jacoubet Atlas"
   ]
  },
  {
   "cell_type": "code",
   "execution_count": 20,
   "metadata": {},
   "outputs": [],
   "source": [
    "# Name of the directory where data factoid triples are stored and constructed\n",
    "ja_1836_addr_named_graph_name = \"atlas_jacoubet_1836_adresses\"\n",
    "\n",
    "# Geojson file containting data\n",
    "ja_1836_addr_geojson_file_name = \"atlas_jacoubet_1836_adresses.geojson\"\n",
    "ja_1836_addr_geojson_file = os.path.join(data_folder, ja_1836_addr_geojson_file_name)\n",
    "ja_1836_addr_kg_file_name = \"atlas_jacoubet_1836_adresses.ttl\"\n",
    "ja_1836_addr_kg_file = os.path.join(tmp_folder, ja_1836_addr_kg_file_name)\n",
    "\n",
    "# Attribute names of the street number value and the street name\n",
    "ja_1836_addr_sn_name_property = \"num_voies\"\n",
    "ja_1836_addr_th_name_property = \"nom_entier\"\n",
    "\n",
    "# Description of the source within a dictionary\n",
    "ja_1836_addr_source = {\n",
    "    \"lang\" : \"fr\", \n",
    "    \"label\" : \"Atlas de la ville de Paris de Jacoubet de 1836\",\n",
    "    \"publisher\" : {\n",
    "        \"label\": \"Ville de Paris\"\n",
    "        }\n",
    "}\n",
    "\n",
    "# Time interval of validity of the source\n",
    "ja_1836_addr_valid_time = {\n",
    "    \"start\" : {\"stamp\":\"1836-01-01T00:00:00Z\",\"precision\":\"year\",\"calendar\":\"gregorian\"},\n",
    "    \"end\" : {\"stamp\":\"1838-01-01T00:00:00Z\",\"precision\":\"year\",\"calendar\":\"gregorian\"},\n",
    "}"
   ]
  },
  {
   "cell_type": "markdown",
   "metadata": {},
   "source": [
    "#### 1888 Municipal Atlas of Paris"
   ]
  },
  {
   "cell_type": "code",
   "execution_count": 21,
   "metadata": {},
   "outputs": [],
   "source": [
    "# Name of the directory where data factoid triples are stored and constructed\n",
    "am_1888_addr_named_graph_name = \"atlas_municipal_1888_adresses\"\n",
    "\n",
    "# Geojson file containting data\n",
    "am_1888_addr_geojson_file_name = \"atlas_municipal_1888_adresses.geojson\"\n",
    "am_1888_addr_geojson_file = os.path.join(data_folder, am_1888_addr_geojson_file_name)\n",
    "am_1888_addr_kg_file_name = \"atlas_municipal_1888_adresses.ttl\"\n",
    "am_1888_addr_kg_file = os.path.join(tmp_folder, am_1888_addr_kg_file_name)\n",
    "\n",
    "# Attribute names of the street number value and the street name\n",
    "am_1888_addr_sn_name_property = \"numbers_va\"\n",
    "am_1888_addr_th_name_property = \"normalised\"\n",
    "\n",
    "# Description of the source within a dictionary\n",
    "am_1888_addr_source = {\n",
    "    \"lang\" : \"fr\", \n",
    "    \"label\" : \"Adresses du plan de l'atlas municipal de 1888\",\n",
    "    \"publisher\" : {\n",
    "        \"label\": \"Ville de Paris\"\n",
    "        }\n",
    "}\n",
    "\n",
    "# Time interval of validity of the source\n",
    "am_1888_addr_valid_time = {\n",
    "    \"start\" : {\"stamp\":\"1887-01-01T00:00:00Z\",\"precision\":\"year\",\"calendar\":\"gregorian\"},\n",
    "    \"end\" : {\"stamp\":\"1889-01-01T00:00:00Z\",\"precision\":\"year\",\"calendar\":\"gregorian\"},\n",
    "}"
   ]
  },
  {
   "cell_type": "markdown",
   "metadata": {},
   "source": [
    "### Events"
   ]
  },
  {
   "cell_type": "markdown",
   "metadata": {},
   "source": [
    "TTL file describing events"
   ]
  },
  {
   "cell_type": "code",
   "execution_count": 22,
   "metadata": {},
   "outputs": [],
   "source": [
    "# Name of the directory where the factoid triples of events data are stored and constructed\n",
    "events_named_graph_name = \"source_events\"\n",
    "\n",
    "# Event file containting data\n",
    "events_json_file_name = \"events.json\"\n",
    "events_json_file = os.path.join(data_folder, events_json_file_name)\n",
    "\n",
    "# Final TTL file of factoids from events\n",
    "events_kg_file_name = \"events.ttl\"\n",
    "events_kg_file = os.path.join(tmp_folder, events_kg_file_name)"
   ]
  },
  {
   "cell_type": "markdown",
   "metadata": {},
   "source": [
    "### Fragmentary streetnumbers"
   ]
  },
  {
   "cell_type": "markdown",
   "metadata": {},
   "source": [
    "JSON file describing states of fragmentary street numbers"
   ]
  },
  {
   "cell_type": "code",
   "execution_count": 23,
   "metadata": {},
   "outputs": [],
   "source": [
    "# Name of the directory where the factoid triples of fragmentary street numbers data are stored and constructed\n",
    "fragmentary_sn_states_named_graph_name = \"fragmentary_states_streetnumbers\"\n",
    "\n",
    "# fragmentary street numbers file containting data\n",
    "fragmentary_sn_states_json_file_name = \"fragmentary_states_streetnumbers.json\"\n",
    "fragmentary_sn_states_json_file = os.path.join(data_folder, fragmentary_sn_states_json_file_name)\n",
    "\n",
    "# Final TTL file of factoids from states of fragmentary street numbers\n",
    "fragmentary_sn_states_kg_file_name = \"fragmentary_states_streetnumbers.ttl\"\n",
    "fragmentary_sn_states_kg_file = os.path.join(tmp_folder, fragmentary_sn_states_kg_file_name)"
   ]
  },
  {
   "cell_type": "markdown",
   "metadata": {},
   "source": [
    "## Final and iterative process"
   ]
  },
  {
   "cell_type": "markdown",
   "metadata": {},
   "source": [
    "### Define named graph URIs"
   ]
  },
  {
   "cell_type": "code",
   "execution_count": 24,
   "metadata": {},
   "outputs": [],
   "source": [
    "facts_named_graph_uri = gd.get_named_graph_uri_from_name(graphdb_url, facts_repository_name, facts_named_graph_name)\n",
    "inter_sources_name_graph_uri = gd.get_named_graph_uri_from_name(graphdb_url, facts_repository_name, inter_sources_name_graph_name)\n",
    "tmp_named_graph_uri = gd.get_named_graph_uri_from_name(graphdb_url, facts_repository_name, tmp_named_graph_name)"
   ]
  },
  {
   "cell_type": "markdown",
   "metadata": {},
   "source": [
    "For each source, factoids are created independently in separate named graphs"
   ]
  },
  {
   "cell_type": "code",
   "execution_count": 25,
   "metadata": {},
   "outputs": [],
   "source": [
    "# Process for Ville de Paris\n",
    "g = fc.create_graph_from_ville_paris(vpta_csv_file, vptc_csv_file, vpta_valid_time, vpta_source, vptc_source, \"fr\")\n",
    "msp.transfert_rdflib_graph_to_named_graph_repository(g, graphdb_url, facts_repository_name, vpt_named_graph_name, vpt_kg_file)\n",
    "\n",
    "# Process for BAN\n",
    "g = fc.create_graph_from_paris_ban(bpa_csv_file, bpa_valid_time, bpa_source, \"fr\")\n",
    "msp.transfert_rdflib_graph_to_named_graph_repository(g, graphdb_url, facts_repository_name, bpa_named_graph_name, bpa_kg_file)\n",
    "\n",
    "# Process for Wikidata\n",
    "# fc.get_data_from_wikidata(wdp_land_csv_file, wdp_loc_csv_file)\n",
    "g = fc.create_graph_from_wikidata(wdp_land_csv_file, wdp_loc_csv_file, wdp_source, lang)\n",
    "msp.transfert_rdflib_graph_to_named_graph_repository(g, graphdb_url, facts_repository_name, wdp_named_graph_name, wdp_kg_file)\n",
    "\n",
    "# Process for OpenStreetMap\n",
    "g = fc.create_graph_from_osm(osm_csv_file, osm_hn_csv_file, osm_valid_time, osm_source, lang)\n",
    "msp.transfert_rdflib_graph_to_named_graph_repository(g, graphdb_url, facts_repository_name, osm_named_graph_name, osm_kg_file)\n",
    "\n",
    "# Process for streets of the Delagrive map\n",
    "g = fc.create_graph_from_geojson_states_of_thoroughfares(del_1728_th_geojson_file, lang, del_1728_th_valid_time, del_1728_th_source,\n",
    "                                                         del_1728_th_name_attribute, del_1728_th_name_attribute)\n",
    "msp.transfert_rdflib_graph_to_named_graph_repository(g, graphdb_url, facts_repository_name, del_1728_th_named_graph_name, del_1728_th_kg_file)\n",
    "\n",
    "# Process for streets of the Verniquet Atlas\n",
    "g = fc.create_graph_from_geojson_states_of_thoroughfares(ve_1790_th_geojson_file, lang, ve_1790_th_valid_time, ve_1790_th_source,\n",
    "                                                         ve_1790_th_name_attribute, ve_1790_th_name_attribute)\n",
    "msp.transfert_rdflib_graph_to_named_graph_repository(g, graphdb_url, facts_repository_name, ve_1790_th_named_graph_name, ve_1790_th_kg_file)\n",
    "\n",
    "# Process for streets of the Vasserot Atlas\n",
    "g = fc.create_graph_from_geojson_states_of_thoroughfares(va_1810_th_geojson_file, lang, va_1810_th_valid_time, va_1810_th_source,\n",
    "                                                         va_1810_th_name_attribute, va_1810_th_name_attribute)\n",
    "msp.transfert_rdflib_graph_to_named_graph_repository(g, graphdb_url, facts_repository_name, va_1810_th_named_graph_name, va_1810_th_kg_file)\n",
    "\n",
    "# Process for streets of the 1836 Jacoubet Atlas\n",
    "g = fc.create_graph_from_geojson_states_of_thoroughfares(ja_1836_th_geojson_file, lang, ja_1836_th_valid_time, ja_1836_th_source,\n",
    "                                                         ja_1836_th_name_attribute, ja_1836_th_name_attribute)\n",
    "msp.transfert_rdflib_graph_to_named_graph_repository(g, graphdb_url, facts_repository_name, ja_1836_th_named_graph_name, ja_1836_th_kg_file)\n",
    "\n",
    "# Process for streets of the Andriveau map\n",
    "g = fc.create_graph_from_geojson_states_of_thoroughfares(an_1849_th_geojson_file, lang, an_1849_th_valid_time, an_1849_th_source,\n",
    "                                                         an_1849_th_name_attribute, an_1849_th_name_attribute)\n",
    "msp.transfert_rdflib_graph_to_named_graph_repository(g, graphdb_url, facts_repository_name, an_1849_th_named_graph_name, an_1849_th_kg_file)\n",
    "\n",
    "# Process for streets of the 1888 Municipal Atlas\n",
    "g = fc.create_graph_from_geojson_states_of_thoroughfares(am_1888_th_geojson_file, lang, am_1888_th_valid_time, am_1888_th_source,\n",
    "                                                         am_1888_th_name_attribute, am_1888_th_name_attribute)\n",
    "msp.transfert_rdflib_graph_to_named_graph_repository(g, graphdb_url, facts_repository_name, am_1888_th_named_graph_name, am_1888_th_kg_file)\n",
    "\n",
    "# Process for adresses of the General Cadastre of Paris\n",
    "g = fc.create_graph_from_geojson_states_of_streetnumbers(cad_1807_addr_geojson_file, lang, cad_1807_addr_valid_time, cad_1807_addr_source,\n",
    "                                                         cad_1807_addr_sn_name_property, cad_1807_addr_th_name_property)\n",
    "msp.transfert_rdflib_graph_to_named_graph_repository(g, graphdb_url, facts_repository_name, cad_1807_addr_named_graph_name, cad_1807_addr_kg_file)\n",
    "\n",
    "# Process for adresses of the Vasserot Atlas\n",
    "g = fc.create_graph_from_geojson_states_of_streetnumbers(va_1810_addr_geojson_file, lang, va_1810_addr_valid_time, va_1810_addr_source,\n",
    "                                                         va_1810_addr_sn_name_property, va_1810_addr_th_name_property)\n",
    "msp.transfert_rdflib_graph_to_named_graph_repository(g, graphdb_url, facts_repository_name, va_1810_addr_named_graph_name, va_1810_addr_kg_file)\n",
    "\n",
    "# Process for adresses of the 1836 Jacoubet Atlas\n",
    "g = fc.create_graph_from_geojson_states_of_streetnumbers(ja_1836_addr_geojson_file, lang, ja_1836_addr_valid_time, ja_1836_addr_source,\n",
    "                                                         ja_1836_addr_sn_name_property, ja_1836_addr_th_name_property)\n",
    "msp.transfert_rdflib_graph_to_named_graph_repository(g, graphdb_url, facts_repository_name, ja_1836_addr_named_graph_name, ja_1836_addr_kg_file)\n",
    "\n",
    "# Process for adresses of the 1888 Municipal Atlas plan\n",
    "g = fc.create_graph_from_geojson_states_of_streetnumbers(am_1888_addr_geojson_file, lang, am_1888_addr_valid_time, am_1888_addr_source,\n",
    "                                                         am_1888_addr_sn_name_property, am_1888_addr_th_name_property)\n",
    "msp.transfert_rdflib_graph_to_named_graph_repository(g, graphdb_url, facts_repository_name, am_1888_addr_named_graph_name, am_1888_addr_kg_file)\n",
    "\n",
    "# Process for events\n",
    "g = fc.create_graph_from_events(events_json_file)\n",
    "msp.transfert_rdflib_graph_to_named_graph_repository(g, graphdb_url, facts_repository_name, events_named_graph_name, events_kg_file)\n",
    "\n",
    "# Process for fragmentary states streetnumbers\n",
    "g = fc.create_graph_from_states(fragmentary_sn_states_json_file)\n",
    "msp.transfert_rdflib_graph_to_named_graph_repository(g, graphdb_url, facts_repository_name, fragmentary_sn_states_named_graph_name, fragmentary_sn_states_kg_file)"
   ]
  },
  {
   "cell_type": "markdown",
   "metadata": {},
   "source": [
    "### Insertion of factoids in the fact graph"
   ]
  },
  {
   "cell_type": "markdown",
   "metadata": {},
   "source": [
    "#### Remove facts and inter_source named graph before importing factoids"
   ]
  },
  {
   "cell_type": "code",
   "execution_count": 26,
   "metadata": {},
   "outputs": [
    {
     "data": {
      "text/plain": [
       "<Response [204]>"
      ]
     },
     "execution_count": 26,
     "metadata": {},
     "output_type": "execute_result"
    }
   ],
   "source": [
    "gd.remove_named_graph(graphdb_url, facts_repository_name, facts_named_graph_name)\n",
    "gd.remove_named_graph(graphdb_url, facts_repository_name, inter_sources_name_graph_name)\n",
    "gd.remove_named_graph(graphdb_url, facts_repository_name, comp_named_graph_name)"
   ]
  },
  {
   "cell_type": "markdown",
   "metadata": {},
   "source": [
    "#### Insertion of factoids in the fact graph"
   ]
  },
  {
   "cell_type": "markdown",
   "metadata": {},
   "source": [
    "##### Add alternative and hidden labels"
   ]
  },
  {
   "cell_type": "code",
   "execution_count": 27,
   "metadata": {},
   "outputs": [],
   "source": [
    "named_graph_names = [\n",
    "    vpt_named_graph_name,\n",
    "    bpa_named_graph_name,\n",
    "    wdp_named_graph_name,\n",
    "    osm_named_graph_name,\n",
    "    del_1728_th_named_graph_name,\n",
    "    ve_1790_th_named_graph_name,\n",
    "    va_1810_th_named_graph_name,\n",
    "    ja_1836_th_named_graph_name,\n",
    "    an_1849_th_named_graph_name,\n",
    "    am_1888_th_named_graph_name,\n",
    "    cad_1807_addr_named_graph_name,\n",
    "    va_1810_addr_named_graph_name,\n",
    "    ja_1836_addr_named_graph_name,\n",
    "    am_1888_addr_named_graph_name,\n",
    "    events_named_graph_name,\n",
    "    fragmentary_sn_states_named_graph_name\n",
    "    ]\n",
    "\n",
    "for named_graph_name in named_graph_names:\n",
    "    factoids_named_graph_uri = gd.get_named_graph_uri_from_name(graphdb_url, facts_repository_name, named_graph_name)\n",
    "    msp.add_pref_and_hidden_labels_for_elements(graphdb_url, facts_repository_name, factoids_named_graph_uri, pref_hidden_labels_ttl_file)"
   ]
  },
  {
   "cell_type": "markdown",
   "metadata": {},
   "source": [
    "##### Links factoids with facts"
   ]
  },
  {
   "cell_type": "code",
   "execution_count": 28,
   "metadata": {},
   "outputs": [],
   "source": [
    "rr.link_factoids_with_facts(graphdb_url, facts_repository_name, facts_named_graph_uri, inter_sources_name_graph_uri)"
   ]
  },
  {
   "cell_type": "markdown",
   "metadata": {},
   "source": [
    "### Construction of entities evolution from multi-source data"
   ]
  },
  {
   "cell_type": "markdown",
   "metadata": {},
   "source": [
    "#### Comparison of version values"
   ]
  },
  {
   "cell_type": "code",
   "execution_count": 29,
   "metadata": {},
   "outputs": [],
   "source": [
    "comparison_settings = {\n",
    "    \"geom_similarity_coef\": 0.85,\n",
    "    \"geom_buffer_radius\": 5,\n",
    "    \"geom_crs_uri\": URIRef('http://www.opengis.net/def/crs/EPSG/0/2154'),\n",
    "}\n",
    "avc.compare_attribute_versions(graphdb_url, facts_repository_name, comp_named_graph_name, comp_tmp_file, comparison_settings)"
   ]
  },
  {
   "cell_type": "markdown",
   "metadata": {},
   "source": [
    "#### Initialize missing landmark apperance and disapperance changes"
   ]
  },
  {
   "cell_type": "markdown",
   "metadata": {},
   "source": [
    "* After having imported all factoids, changes which describe the appearance and the disappearance of landmark mainly are not created as they don't exist in factoids named graph.\n",
    "* This step aims at initializing missing landmark apperance and disapperance changes and their related events for which we give an estimation the time at which it happened. We consider the appearance happened before the earliest time of reference of the landmark in sources. For the disapperance, it happened after the earliest time of reference."
   ]
  },
  {
   "cell_type": "code",
   "execution_count": 30,
   "metadata": {},
   "outputs": [],
   "source": [
    "ec.initialize_missing_changes_and_events_for_landmarks(graphdb_url, facts_repository_name, facts_named_graph_uri, inter_sources_name_graph_uri, tmp_named_graph_uri)"
   ]
  },
  {
   "cell_type": "markdown",
   "metadata": {},
   "source": [
    "#### Split overlapping versions"
   ]
  },
  {
   "cell_type": "code",
   "execution_count": 31,
   "metadata": {},
   "outputs": [],
   "source": [
    "gd.remove_named_graph_from_uri(tmp_named_graph_uri)\n",
    "ec.get_elementary_versions_and_changes(graphdb_url, facts_repository_name, facts_named_graph_uri, tmp_named_graph_uri)"
   ]
  },
  {
   "cell_type": "markdown",
   "metadata": {},
   "source": [
    "#### Get evolution from elementary elements\n",
    "\n",
    "Get the attribute version evolution from elementary versions and changes\n",
    "* remove empty attribute versions\n",
    "    * versions not related to any trace\n",
    "    * versions which changes are not related to any trace\n",
    "* merge successive attribute versions which are similar"
   ]
  },
  {
   "cell_type": "code",
   "execution_count": 32,
   "metadata": {},
   "outputs": [
    {
     "data": {
      "text/plain": [
       "<Response [204]>"
      ]
     },
     "execution_count": 32,
     "metadata": {},
     "output_type": "execute_result"
    }
   ],
   "source": [
    "ec.get_attribute_version_evolution_from_elementary_elements(graphdb_url, facts_repository_name,\n",
    "                                                            facts_named_graph_uri, inter_sources_name_graph_uri, tmp_named_graph_uri)\n",
    "\n",
    "# Remove temporary named graph (which is used for construction)\n",
    "gd.remove_named_graph_from_uri(tmp_named_graph_uri)"
   ]
  }
 ],
 "metadata": {
  "kernelspec": {
   "display_name": "Python 3",
   "language": "python",
   "name": "python3"
  },
  "language_info": {
   "codemirror_mode": {
    "name": "ipython",
    "version": 3
   },
   "file_extension": ".py",
   "mimetype": "text/x-python",
   "name": "python",
   "nbconvert_exporter": "python",
   "pygments_lexer": "ipython3",
   "version": "3.10.12"
  },
  "orig_nbformat": 4
 },
 "nbformat": 4,
 "nbformat_minor": 2
}
